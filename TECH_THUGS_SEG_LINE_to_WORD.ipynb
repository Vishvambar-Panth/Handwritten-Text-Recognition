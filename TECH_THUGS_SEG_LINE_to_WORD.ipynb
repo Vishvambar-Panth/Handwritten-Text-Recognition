{
  "nbformat": 4,
  "nbformat_minor": 0,
  "metadata": {
    "colab": {
      "name": "TECH THUGS SEG-LINE to WORD.ipynb",
      "provenance": []
    },
    "kernelspec": {
      "name": "python3",
      "display_name": "Python 3"
    },
    "accelerator": "GPU"
  },
  "cells": [
    {
      "cell_type": "markdown",
      "metadata": {
        "id": "BO6n22OS2t2U"
      },
      "source": [
        "## Line to Word Segmentation"
      ]
    },
    {
      "cell_type": "markdown",
      "metadata": {
        "id": "urgBuTqDUqnN"
      },
      "source": [
        "\n",
        "This module segments Lines to Individual words.\n",
        "\n",
        "It takes input from 'to predict lines'  and stores the word segments in 'to predict words' folder"
      ]
    },
    {
      "cell_type": "code",
      "metadata": {
        "id": "nh3t0TnjYYsr"
      },
      "source": [
        "import sys\n",
        "sys.path.append('/content/drive/My Drive')"
      ],
      "execution_count": null,
      "outputs": []
    },
    {
      "cell_type": "code",
      "metadata": {
        "id": "M79Wm3SlX3dh"
      },
      "source": [
        "\n",
        "import matplotlib.pyplot as plt\n",
        "import os\n",
        "import cv2\n",
        "import WordSegmentation\n",
        "from WordSegmentation import wordSegmentation, prepareImg"
      ],
      "execution_count": null,
      "outputs": []
    },
    {
      "cell_type": "code",
      "metadata": {
        "id": "z71H1SyLgTg7",
        "outputId": "37e1450b-1718-4af3-87b3-5628d94b72ff",
        "colab": {
          "base_uri": "https://localhost:8080/",
          "height": 33
        }
      },
      "source": [
        "import os\n",
        "\n",
        "onlyfiles = next(os.walk('/content/drive/My Drive/to predict lines'))[2] #dir is your directory path as string\n",
        "p = len(onlyfiles)\n",
        "print(p)"
      ],
      "execution_count": null,
      "outputs": [
        {
          "output_type": "stream",
          "text": [
            "5\n"
          ],
          "name": "stdout"
        }
      ]
    },
    {
      "cell_type": "code",
      "metadata": {
        "id": "P29hsGL2YbMJ",
        "outputId": "fa135d5f-65ee-4371-8752-c7b14ed5f8af",
        "colab": {
          "base_uri": "https://localhost:8080/",
          "height": 104
        }
      },
      "source": [
        "img=cv2.imread('/content/drive/My Drive/to predict lines/3.png',cv2.IMREAD_GRAYSCALE)\n",
        "#pimg = prepareImg(img, 100)\n",
        "import matplotlib.pyplot as plt\n",
        "plt.imshow(img)\n",
        "#img_grey = cv2.cvtColor(img, cv2.COLOR_BGR2GRAY)\n",
        "#plt.imshow(img_grey)"
      ],
      "execution_count": null,
      "outputs": [
        {
          "output_type": "execute_result",
          "data": {
            "text/plain": [
              "<matplotlib.image.AxesImage at 0x7f727538cbe0>"
            ]
          },
          "metadata": {
            "tags": []
          },
          "execution_count": 11
        },
        {
          "output_type": "display_data",
          "data": {
            "image/png": "[encoded data removed]",
            "text/plain": [
              "<Figure size 432x288 with 1 Axes>"
            ]
          },
          "metadata": {
            "tags": [],
            "needs_background": "light"
          }
        }
      ]
    },
    {
      "cell_type": "code",
      "metadata": {
        "id": "HrWisPnqZQ7h"
      },
      "source": [
        "res = wordSegmentation(img, kernelSize=25, sigma=11, theta=7, minArea=100)"
      ],
      "execution_count": null,
      "outputs": []
    },
    {
      "cell_type": "code",
      "metadata": {
        "id": "jdJWNU69aTeC"
      },
      "source": [
        "#ims=[]"
      ],
      "execution_count": null,
      "outputs": []
    },
    {
      "cell_type": "code",
      "metadata": {
        "id": "XA4b3JcAZb3d"
      },
      "source": [
        "#print('Segmented into %d words'%len(res))\n"
      ],
      "execution_count": null,
      "outputs": []
    },
    {
      "cell_type": "code",
      "metadata": {
        "id": "JtxWnLcnZwd5"
      },
      "source": [
        "#for (j, w) in enumerate(res):\n",
        "#\t\t\t(wordBox, wordImg) = w\n",
        "#\t\t\t(x, y, w, h) = wordBox\n",
        "#\t\t\tims.append(wordImg)\n",
        "#\t\t\tcv2.imwrite('/content/drive/My Drive/to predict words/%d.png'%j, wordImg) # save word\n",
        "\t\t\t#cv2.rectangle(img,(x,y),(x+w,y+h),0,1) # draw bounding box in summary image\n",
        "\t\t\n",
        "\t\t# output summary image with bounding boxes around words\n",
        "#cv2.imwrite('/content/drive/My Drive/%s/summary.png', img)"
      ],
      "execution_count": null,
      "outputs": []
    },
    {
      "cell_type": "code",
      "metadata": {
        "id": "qrGhtmwxZca2"
      },
      "source": [
        "for i in range(1,p+1):\n",
        "  img=cv2.imread('/content/drive/My Drive/to predict lines/{}.png'.format(i),cv2.IMREAD_GRAYSCALE)\n",
        "  p_img= prepareImg(img,100)\n",
        "  res = wordSegmentation(p_img, kernelSize=25, sigma=11, theta=11, minArea=100)\n",
        "  for (j, w) in enumerate(res):\n",
        "\t\t\t(wordBox, wordImg) = w\n",
        "\t\t\t(x, y, w, h) = wordBox\n",
        "\t\t\t#ims.append(wordImg)\n",
        "\t\t\tcv2.imwrite('/content/drive/My Drive/to predict words/{}-{}.png'.format(i,j), wordImg)\n",
        "\n",
        "\n",
        "\n",
        "\n"
      ],
      "execution_count": null,
      "outputs": []
    },
    {
      "cell_type": "code",
      "metadata": {
        "id": "7DEpYIn8EYae"
      },
      "source": [
        ""
      ],
      "execution_count": null,
      "outputs": []
    },
    {
      "cell_type": "code",
      "metadata": {
        "id": "DlzPAF1lZ_Zl"
      },
      "source": [
        ""
      ],
      "execution_count": null,
      "outputs": []
    },
    {
      "cell_type": "code",
      "metadata": {
        "id": "97m4htSYj5vw"
      },
      "source": [
        ""
      ],
      "execution_count": null,
      "outputs": []
    }
  ]
}