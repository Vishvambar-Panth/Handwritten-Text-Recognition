{
  "nbformat": 4,
  "nbformat_minor": 0,
  "metadata": {
    "colab": {
      "name": "TECH-THUGS Training Model .ipynb",
      "provenance": []
    },
    "kernelspec": {
      "name": "python3",
      "display_name": "Python 3"
    },
    "accelerator": "GPU"
  },
  "cells": [
    {
      "cell_type": "markdown",
      "metadata": {
        "id": "8Q3Cv2_o3MMM"
      },
      "source": [
        "## EASE THE ERROR 1.0 - SUBMISSION\n",
        "## TEAM : TECH THUGS\n",
        "SSN COLLEGE OF ENGINEERING\n",
        "\n",
        "Members: Vishvambar Panth S (C), Sandhiya S, Saravana Kumar, Dheepika,Rashmika B\n",
        "\n"
      ]
    },
    {
      "cell_type": "markdown",
      "metadata": {
        "id": "WkI8dHlj26fz"
      },
      "source": [
        "## Training Model"
      ]
    },
    {
      "cell_type": "markdown",
      "metadata": {
        "id": "vatWIMZXUIuA"
      },
      "source": [
        "This notebook train a CRNN and stores the weight in drive. This will be used for word prediction in later module"
      ]
    },
    {
      "cell_type": "code",
      "metadata": {
        "id": "fptLZVibjkQt"
      },
      "source": [
        "import tarfile"
      ],
      "execution_count": null,
      "outputs": []
    },
    {
      "cell_type": "code",
      "metadata": {
        "id": "xAtTVE1Yjm_U"
      },
      "source": [
        "tf1= tarfile.open('/content/drive/My Drive/words.tgz')"
      ],
      "execution_count": null,
      "outputs": []
    },
    {
      "cell_type": "code",
      "metadata": {
        "id": "eYGtdQswkBId"
      },
      "source": [
        "tf1.extractall('/content/words')"
      ],
      "execution_count": null,
      "outputs": []
    },
    {
      "cell_type": "code",
      "metadata": {
        "id": "T3EEXXCnkyfU",
        "outputId": "77f1419a-e733-4f7c-e733-c8dcd4f3cae3",
        "colab": {
          "base_uri": "https://localhost:8080/",
          "height": 201
        }
      },
      "source": [
        "!pip install keras-tqdm\n",
        "import numpy as np\n",
        "import cv2\n",
        "import os\n",
        "import pandas as pd\n",
        "import string\n",
        "import matplotlib.pyplot as plt\n",
        "\n",
        "from keras.preprocessing.sequence import pad_sequences\n",
        "\n",
        "from keras.layers import Dense, LSTM, Reshape, BatchNormalization, Input, Conv2D, MaxPool2D, Lambda, Bidirectional\n",
        "from keras.models import Model\n",
        "from keras.activations import relu, sigmoid, softmax\n",
        "import keras.backend as K\n",
        "from keras.utils import to_categorical\n",
        "from keras.callbacks import ModelCheckpoint\n",
        "from keras_tqdm import TQDMNotebookCallback\n",
        "\n",
        "from sklearn.model_selection import train_test_split\n",
        "from sklearn.preprocessing import MinMaxScaler"
      ],
      "execution_count": null,
      "outputs": [
        {
          "output_type": "stream",
          "text": [
            "Collecting keras-tqdm\n",
            "  Downloading https://files.pythonhosted.org/packages/16/5c/ac63c65b79a895b8994474de2ad4d5b66ac0796b8903d60cfea3f8308d5c/keras_tqdm-2.0.1-py2.py3-none-any.whl\n",
            "Requirement already satisfied: Keras in /usr/local/lib/python3.6/dist-packages (from keras-tqdm) (2.4.3)\n",
            "Requirement already satisfied: tqdm in /usr/local/lib/python3.6/dist-packages (from keras-tqdm) (4.41.1)\n",
            "Requirement already satisfied: scipy>=0.14 in /usr/local/lib/python3.6/dist-packages (from Keras->keras-tqdm) (1.4.1)\n",
            "Requirement already satisfied: numpy>=1.9.1 in /usr/local/lib/python3.6/dist-packages (from Keras->keras-tqdm) (1.18.5)\n",
            "Requirement already satisfied: h5py in /usr/local/lib/python3.6/dist-packages (from Keras->keras-tqdm) (2.10.0)\n",
            "Requirement already satisfied: pyyaml in /usr/local/lib/python3.6/dist-packages (from Keras->keras-tqdm) (3.13)\n",
            "Requirement already satisfied: six in /usr/local/lib/python3.6/dist-packages (from h5py->Keras->keras-tqdm) (1.15.0)\n",
            "Installing collected packages: keras-tqdm\n",
            "Successfully installed keras-tqdm-2.0.1\n"
          ],
          "name": "stdout"
        }
      ]
    },
    {
      "cell_type": "code",
      "metadata": {
        "id": "OL0zH84hk4jI"
      },
      "source": [
        "import tensorflow as tf\n",
        "\n",
        "#ignore warnings in the output\n",
        "tf.compat.v1.logging.set_verbosity(tf.compat.v1.logging.ERROR)"
      ],
      "execution_count": null,
      "outputs": []
    },
    {
      "cell_type": "code",
      "metadata": {
        "id": "K4nqr5X3k5G_",
        "outputId": "3a45f07e-f3eb-4874-a683-7fcaad186b19",
        "colab": {
          "base_uri": "https://localhost:8080/",
          "height": 621
        }
      },
      "source": [
        "from tensorflow.python.client import device_lib\n",
        "\n",
        "# Check all available devices if GPU is available\n",
        "print(device_lib.list_local_devices())\n",
        "sess = tf.compat.v1.Session(config=tf.compat.v1.ConfigProto(log_device_placement=True))"
      ],
      "execution_count": null,
      "outputs": [
        {
          "output_type": "stream",
          "text": [
            "[name: \"/device:CPU:0\"\n",
            "device_type: \"CPU\"\n",
            "memory_limit: 268435456\n",
            "locality {\n",
            "}\n",
            "incarnation: 8073466014874400654\n",
            ", name: \"/device:XLA_CPU:0\"\n",
            "device_type: \"XLA_CPU\"\n",
            "memory_limit: 17179869184\n",
            "locality {\n",
            "}\n",
            "incarnation: 1107611860281006458\n",
            "physical_device_desc: \"device: XLA_CPU device\"\n",
            ", name: \"/device:XLA_GPU:0\"\n",
            "device_type: \"XLA_GPU\"\n",
            "memory_limit: 17179869184\n",
            "locality {\n",
            "}\n",
            "incarnation: 5822818181713004620\n",
            "physical_device_desc: \"device: XLA_GPU device\"\n",
            ", name: \"/device:GPU:0\"\n",
            "device_type: \"GPU\"\n",
            "memory_limit: 14640891840\n",
            "locality {\n",
            "  bus_id: 1\n",
            "  links {\n",
            "  }\n",
            "}\n",
            "incarnation: 5787350994689780254\n",
            "physical_device_desc: \"device: 0, name: Tesla T4, pci bus id: 0000:00:04.0, compute capability: 7.5\"\n",
            "]\n",
            "Device mapping:\n",
            "/job:localhost/replica:0/task:0/device:XLA_CPU:0 -> device: XLA_CPU device\n",
            "/job:localhost/replica:0/task:0/device:XLA_GPU:0 -> device: XLA_GPU device\n",
            "/job:localhost/replica:0/task:0/device:GPU:0 -> device: 0, name: Tesla T4, pci bus id: 0000:00:04.0, compute capability: 7.5\n",
            "\n"
          ],
          "name": "stdout"
        }
      ]
    },
    {
      "cell_type": "code",
      "metadata": {
        "id": "7Cwt-V_7k7ZV",
        "outputId": "3a4e4734-8028-48f3-cc90-7f5f00a9ffcf",
        "colab": {
          "base_uri": "https://localhost:8080/",
          "height": 33
        }
      },
      "source": [
        "tf.config.experimental.list_physical_devices('GPU')"
      ],
      "execution_count": null,
      "outputs": [
        {
          "output_type": "execute_result",
          "data": {
            "text/plain": [
              "[PhysicalDevice(name='/physical_device:GPU:0', device_type='GPU')]"
            ]
          },
          "metadata": {
            "tags": []
          },
          "execution_count": 8
        }
      ]
    },
    {
      "cell_type": "code",
      "metadata": {
        "id": "6PtNoU4QlAr8",
        "outputId": "cfff9104-48f5-4579-9f0f-2f99e1a32981",
        "colab": {
          "base_uri": "https://localhost:8080/",
          "height": 34
        }
      },
      "source": [
        "with open('/content/drive/My Drive/words.txt') as f:\n",
        "    contents = f.readlines()\n",
        "\n",
        "lines = [line.strip() for line in contents] \n",
        "lines[0]"
      ],
      "execution_count": null,
      "outputs": [
        {
          "output_type": "execute_result",
          "data": {
            "application/vnd.google.colaboratory.intrinsic+json": {
              "type": "string"
            },
            "text/plain": [
              "'a01-000u-00-00 ok 154 408 768 27 51 AT A'"
            ]
          },
          "metadata": {
            "tags": []
          },
          "execution_count": 9
        }
      ]
    },
    {
      "cell_type": "code",
      "metadata": {
        "id": "endXWXiyl39v",
        "outputId": "9998f230-e46c-434c-a5e6-125123380c32",
        "colab": {
          "base_uri": "https://localhost:8080/",
          "height": 33
        }
      },
      "source": [
        "max_label_len = 0\n",
        "\n",
        "char_list = \"!\\\"#&'()*+,-./0123456789:;?ABCDEFGHIJKLMNOPQRSTUVWXYZabcdefghijklmnopqrstuvwxyz\" \n",
        "\n",
        "# string.ascii_letters + string.digits (Chars & Digits)\n",
        "# or \n",
        "# \"!\\\"#&'()*+,-./0123456789:;?ABCDEFGHIJKLMNOPQRSTUVWXYZabcdefghijklmnopqrstuvwxyz\"\n",
        "\n",
        "print(char_list, len(char_list))\n",
        "\n",
        "def encode_to_labels(txt):\n",
        "    # encoding each output word into digits\n",
        "    dig_lst = []\n",
        "    for index, chara in enumerate(txt):\n",
        "        dig_lst.append(char_list.index(chara))\n",
        "        \n",
        "    return dig_lst"
      ],
      "execution_count": null,
      "outputs": [
        {
          "output_type": "stream",
          "text": [
            "!\"#&'()*+,-./0123456789:;?ABCDEFGHIJKLMNOPQRSTUVWXYZabcdefghijklmnopqrstuvwxyz 78\n"
          ],
          "name": "stdout"
        }
      ]
    },
    {
      "cell_type": "code",
      "metadata": {
        "id": "ah6tmUhnl4iR"
      },
      "source": [
        "images = []\n",
        "labels = []\n",
        "\n",
        "RECORDS_COUNT = 10000\n",
        "train_images = []\n",
        "train_labels = []\n",
        "train_input_length = []\n",
        "train_label_length = []\n",
        "train_original_text = []\n",
        "\n",
        "valid_images = []\n",
        "valid_labels = []\n",
        "valid_input_length = []\n",
        "valid_label_length = []\n",
        "valid_original_text = []\n",
        "\n",
        "inputs_length = []\n",
        "labels_length = []"
      ],
      "execution_count": null,
      "outputs": []
    },
    {
      "cell_type": "code",
      "metadata": {
        "id": "wxuEh0ODl9db"
      },
      "source": [
        "def process_image(img):\n",
        "    \"\"\"\n",
        "    Converts image to shape (32, 128, 1) & normalize\n",
        "    \"\"\"\n",
        "    w, h = img.shape\n",
        "    \n",
        "#     _, img = cv2.threshold(img, \n",
        "#                            128, \n",
        "#                            255, \n",
        "#                            cv2.THRESH_BINARY | cv2.THRESH_OTSU)\n",
        "    \n",
        "    # Aspect Ratio Calculation\n",
        "    new_w = 32\n",
        "    new_h = int(h * (new_w / w))\n",
        "    img = cv2.resize(img, (new_h, new_w))\n",
        "    w, h = img.shape\n",
        "    \n",
        "    img = img.astype('float32')\n",
        "    \n",
        "    # Converts each to (32, 128, 1)\n",
        "    if w < 32:\n",
        "        add_zeros = np.full((32-w, h), 255)\n",
        "        img = np.concatenate((img, add_zeros))\n",
        "        w, h = img.shape\n",
        "    \n",
        "    if h < 128:\n",
        "        add_zeros = np.full((w, 128-h), 255)\n",
        "        img = np.concatenate((img, add_zeros), axis=1)\n",
        "        w, h = img.shape\n",
        "        \n",
        "    if h > 128 or w > 32:\n",
        "        dim = (128,32)\n",
        "        img = cv2.resize(img, dim)\n",
        "    \n",
        "   # img = cv2.subtract(255, img)\n",
        "    \n",
        "    img = np.expand_dims(img, axis=2)\n",
        "    \n",
        "    # Normalize \n",
        "    img = img / 255\n",
        "    \n",
        "    return img"
      ],
      "execution_count": null,
      "outputs": []
    },
    {
      "cell_type": "code",
      "metadata": {
        "id": "I04SHD2amAZ8"
      },
      "source": [
        "for index, line in enumerate(lines):\n",
        "    splits = line.split(' ')\n",
        "    status = splits[1]\n",
        "    \n",
        "    if status == 'ok':\n",
        "        word_id = splits[0]\n",
        "        word = \"\".join(splits[8:])\n",
        "        \n",
        "        splits_id = word_id.split('-')\n",
        "        filepath = 'words/{}/{}-{}/{}.png'.format(splits_id[0], \n",
        "                                                  splits_id[0], \n",
        "                                                  splits_id[1], \n",
        "                                                  word_id)\n",
        "        \n",
        "        # process image\n",
        "        img = cv2.imread(filepath, cv2.IMREAD_GRAYSCALE)\n",
        "        try:\n",
        "            img = process_image(img)\n",
        "        except:\n",
        "            continue\n",
        "            \n",
        "        # process label\n",
        "        try:\n",
        "            label = encode_to_labels(word)\n",
        "        except:\n",
        "            continue\n",
        "        \n",
        "        if index % 10 == 0:\n",
        "            valid_images.append(img)\n",
        "            valid_labels.append(label)\n",
        "            valid_input_length.append(31)\n",
        "            valid_label_length.append(len(word))\n",
        "            valid_original_text.append(word)\n",
        "        else:\n",
        "            train_images.append(img)\n",
        "            train_labels.append(label)\n",
        "            train_input_length.append(31)\n",
        "            train_label_length.append(len(word))\n",
        "            train_original_text.append(word)\n",
        "        \n",
        "        if len(word) > max_label_len:\n",
        "            max_label_len = len(word)\n",
        "    \n",
        "    if index >= RECORDS_COUNT:\n",
        "        break"
      ],
      "execution_count": null,
      "outputs": []
    },
    {
      "cell_type": "code",
      "metadata": {
        "id": "o-MaUAu7mDzQ"
      },
      "source": [
        "# padded_label = pad_sequences(labels, \n",
        "#                              maxlen=max_label_len, \n",
        "#                              padding='post',\n",
        "#                              value=len(char_list))\n",
        "\n",
        "train_padded_label = pad_sequences(train_labels, \n",
        "                             maxlen=max_label_len, \n",
        "                             padding='post',\n",
        "                             value=len(char_list))\n",
        "\n",
        "valid_padded_label = pad_sequences(valid_labels, \n",
        "                             maxlen=max_label_len, \n",
        "                             padding='post',\n",
        "                             value=len(char_list))"
      ],
      "execution_count": null,
      "outputs": []
    },
    {
      "cell_type": "code",
      "metadata": {
        "id": "dyiNewRhmHJX",
        "outputId": "5cbe1dad-6b5f-45fc-94db-4ec186351a21",
        "colab": {
          "base_uri": "https://localhost:8080/",
          "height": 33
        }
      },
      "source": [
        "\n",
        "train_padded_label.shape, valid_padded_label.shape"
      ],
      "execution_count": null,
      "outputs": [
        {
          "output_type": "execute_result",
          "data": {
            "text/plain": [
              "((7850, 16), (876, 16))"
            ]
          },
          "metadata": {
            "tags": []
          },
          "execution_count": 15
        }
      ]
    },
    {
      "cell_type": "code",
      "metadata": {
        "id": "DwHlzY_1mJKW"
      },
      "source": [
        "# images = np.asarray(images)\n",
        "# inputs_length = np.asarray(inputs_length)\n",
        "# labels_length = np.asarray(labels_length)\n",
        "\n",
        "train_images = np.asarray(train_images)\n",
        "train_input_length = np.asarray(train_input_length)\n",
        "train_label_length = np.asarray(train_label_length)\n",
        "\n",
        "valid_images = np.asarray(valid_images)\n",
        "valid_input_length = np.asarray(valid_input_length)\n",
        "valid_label_length = np.asarray(valid_label_length)"
      ],
      "execution_count": null,
      "outputs": []
    },
    {
      "cell_type": "code",
      "metadata": {
        "id": "S-B7Ju5TmLbA",
        "outputId": "fa38cd38-8887-4662-e027-867c78ba2c6d",
        "colab": {
          "base_uri": "https://localhost:8080/",
          "height": 33
        }
      },
      "source": [
        "train_images.shape\n"
      ],
      "execution_count": null,
      "outputs": [
        {
          "output_type": "execute_result",
          "data": {
            "text/plain": [
              "(7850, 32, 128, 1)"
            ]
          },
          "metadata": {
            "tags": []
          },
          "execution_count": 17
        }
      ]
    },
    {
      "cell_type": "code",
      "metadata": {
        "id": "x94Ef9BDmNQh"
      },
      "source": [
        "# input with shape of height=32 and width=128 \n",
        "inputs = Input(shape=(32,128,1))\n",
        " \n",
        "# convolution layer with kernel size (3,3)\n",
        "conv_1 = Conv2D(64, (3,3), activation = 'relu', padding='same')(inputs)\n",
        "# poolig layer with kernel size (2,2)\n",
        "pool_1 = MaxPool2D(pool_size=(2, 2), strides=2)(conv_1)\n",
        " \n",
        "conv_2 = Conv2D(128, (3,3), activation = 'relu', padding='same')(pool_1)\n",
        "pool_2 = MaxPool2D(pool_size=(2, 2), strides=2)(conv_2)\n",
        " \n",
        "conv_3 = Conv2D(256, (3,3), activation = 'relu', padding='same')(pool_2)\n",
        " \n",
        "conv_4 = Conv2D(256, (3,3), activation = 'relu', padding='same')(conv_3)\n",
        "# poolig layer with kernel size (2,1)\n",
        "pool_4 = MaxPool2D(pool_size=(2, 1))(conv_4)\n",
        " \n",
        "conv_5 = Conv2D(512, (3,3), activation = 'relu', padding='same')(pool_4)\n",
        "# Batch normalization layer\n",
        "batch_norm_5 = BatchNormalization()(conv_5)\n",
        " \n",
        "conv_6 = Conv2D(512, (3,3), activation = 'relu', padding='same')(batch_norm_5)\n",
        "batch_norm_6 = BatchNormalization()(conv_6)\n",
        "pool_6 = MaxPool2D(pool_size=(2, 1))(batch_norm_6)\n",
        " \n",
        "conv_7 = Conv2D(512, (2,2), activation = 'relu')(pool_6)\n",
        " \n",
        "squeezed = Lambda(lambda x: K.squeeze(x, 1))(conv_7)\n",
        " \n",
        "# bidirectional LSTM layers with units=128\n",
        "blstm_1 = Bidirectional(LSTM(256, return_sequences=True, dropout = 0.2))(squeezed)\n",
        "blstm_2 = Bidirectional(LSTM(256, return_sequences=True, dropout = 0.2))(blstm_1)\n",
        " \n",
        "outputs = Dense(len(char_list)+1, activation = 'softmax')(blstm_2)\n",
        "\n",
        "# model to be used at test time\n",
        "act_model = Model(inputs, outputs)"
      ],
      "execution_count": null,
      "outputs": []
    },
    {
      "cell_type": "code",
      "metadata": {
        "id": "nUqWMaiCmQIM"
      },
      "source": [
        "the_labels = Input(name='the_labels', shape=[max_label_len], dtype='float32')\n",
        "input_length = Input(name='input_length', shape=[1], dtype='int64')\n",
        "label_length = Input(name='label_length', shape=[1], dtype='int64')\n",
        "\n",
        "def ctc_lambda_func(args):\n",
        "    y_pred, labels, input_length, label_length = args\n",
        "    \n",
        "    return K.ctc_batch_cost(labels, y_pred, input_length, label_length)\n",
        "\n",
        "loss_out = Lambda(ctc_lambda_func, output_shape=(1,), name='ctc')([outputs, the_labels, input_length, label_length])\n",
        "\n",
        "#model to be used at training time\n",
        "model = Model(inputs=[inputs, the_labels, input_length, label_length], outputs=loss_out)"
      ],
      "execution_count": null,
      "outputs": []
    },
    {
      "cell_type": "code",
      "metadata": {
        "id": "Fb0WvnJ4mS1C"
      },
      "source": [
        "batch_size = 8\n",
        "epochs = 30\n",
        "e = str(epochs)\n",
        "optimizer_name = 'sgd'"
      ],
      "execution_count": null,
      "outputs": []
    },
    {
      "cell_type": "code",
      "metadata": {
        "id": "B_xd-7UKmUuQ"
      },
      "source": [
        "model.compile(loss={'ctc': lambda y_true, y_pred: y_pred}, optimizer = optimizer_name, metrics=['accuracy'])\n",
        "\n",
        "filepath=\"{}o-{}r-{}e-{}t-{}v.hdf5\".format(optimizer_name,\n",
        "                                          str(RECORDS_COUNT),\n",
        "                                          str(epochs),\n",
        "                                          str(train_images.shape[0]),\n",
        "                                          str(valid_images.shape[0]))\n",
        "\n",
        "checkpoint = ModelCheckpoint(filepath=filepath, monitor='val_loss', verbose=1, save_best_only=True, mode='auto')\n",
        "callbacks_list = [checkpoint]\n"
      ],
      "execution_count": null,
      "outputs": []
    },
    {
      "cell_type": "code",
      "metadata": {
        "id": "ZHEwRAkWmbPr",
        "outputId": "d70ed0c8-04af-4094-9205-467421a726be",
        "colab": {
          "base_uri": "https://localhost:8080/",
          "height": 1000
        }
      },
      "source": [
        "\n",
        "history = model.fit(x=[train_images, train_padded_label, train_input_length, train_label_length],\n",
        "                    y=np.zeros(len(train_images)),\n",
        "                    batch_size=batch_size, \n",
        "                    epochs=epochs, \n",
        "                    validation_data=([valid_images, valid_padded_label, valid_input_length, valid_label_length], [np.zeros(len(valid_images))]),\n",
        "                    verbose=2,\n",
        "                    callbacks=callbacks_list)"
      ],
      "execution_count": null,
      "outputs": [
        {
          "output_type": "stream",
          "text": [
            "Epoch 1/30\n",
            "\n",
            "Epoch 00001: val_loss improved from inf to 19.47877, saving model to sgdo-10000r-30e-7850t-876v.hdf5\n",
            "982/982 - 26s - loss: 16.5715 - accuracy: 0.0000e+00 - val_loss: 19.4788 - val_accuracy: 0.0000e+00\n",
            "Epoch 2/30\n",
            "\n",
            "Epoch 00002: val_loss improved from 19.47877 to 14.81419, saving model to sgdo-10000r-30e-7850t-876v.hdf5\n",
            "982/982 - 25s - loss: 14.3945 - accuracy: 0.0071 - val_loss: 14.8142 - val_accuracy: 0.0228\n",
            "Epoch 3/30\n",
            "\n",
            "Epoch 00003: val_loss did not improve from 14.81419\n",
            "982/982 - 25s - loss: 13.3316 - accuracy: 0.0320 - val_loss: 15.3777 - val_accuracy: 0.0445\n",
            "Epoch 4/30\n",
            "\n",
            "Epoch 00004: val_loss did not improve from 14.81419\n",
            "982/982 - 25s - loss: 12.1963 - accuracy: 0.0531 - val_loss: 16.7696 - val_accuracy: 0.0023\n",
            "Epoch 5/30\n",
            "\n",
            "Epoch 00005: val_loss did not improve from 14.81419\n",
            "982/982 - 25s - loss: 11.1974 - accuracy: 0.0657 - val_loss: 38.5415 - val_accuracy: 0.0000e+00\n",
            "Epoch 6/30\n",
            "\n",
            "Epoch 00006: val_loss did not improve from 14.81419\n",
            "982/982 - 25s - loss: 10.4113 - accuracy: 0.0819 - val_loss: 17.8990 - val_accuracy: 0.0034\n",
            "Epoch 7/30\n",
            "\n",
            "Epoch 00007: val_loss improved from 14.81419 to 11.67894, saving model to sgdo-10000r-30e-7850t-876v.hdf5\n",
            "982/982 - 25s - loss: 9.6544 - accuracy: 0.1023 - val_loss: 11.6789 - val_accuracy: 0.0080\n",
            "Epoch 8/30\n",
            "\n",
            "Epoch 00008: val_loss did not improve from 11.67894\n",
            "982/982 - 25s - loss: 8.8007 - accuracy: 0.1307 - val_loss: 26.9603 - val_accuracy: 0.0011\n",
            "Epoch 9/30\n",
            "\n",
            "Epoch 00009: val_loss improved from 11.67894 to 9.69042, saving model to sgdo-10000r-30e-7850t-876v.hdf5\n",
            "982/982 - 25s - loss: 7.9119 - accuracy: 0.1548 - val_loss: 9.6904 - val_accuracy: 0.1815\n",
            "Epoch 10/30\n",
            "\n",
            "Epoch 00010: val_loss improved from 9.69042 to 8.86288, saving model to sgdo-10000r-30e-7850t-876v.hdf5\n",
            "982/982 - 25s - loss: 6.8988 - accuracy: 0.1876 - val_loss: 8.8629 - val_accuracy: 0.1473\n",
            "Epoch 11/30\n",
            "\n",
            "Epoch 00011: val_loss improved from 8.86288 to 7.72768, saving model to sgdo-10000r-30e-7850t-876v.hdf5\n",
            "982/982 - 25s - loss: 5.8778 - accuracy: 0.2057 - val_loss: 7.7277 - val_accuracy: 0.1427\n",
            "Epoch 12/30\n",
            "\n",
            "Epoch 00012: val_loss improved from 7.72768 to 5.88203, saving model to sgdo-10000r-30e-7850t-876v.hdf5\n",
            "982/982 - 25s - loss: 4.9342 - accuracy: 0.2302 - val_loss: 5.8820 - val_accuracy: 0.2237\n",
            "Epoch 13/30\n",
            "\n",
            "Epoch 00013: val_loss improved from 5.88203 to 4.91845, saving model to sgdo-10000r-30e-7850t-876v.hdf5\n",
            "982/982 - 25s - loss: 4.0741 - accuracy: 0.2766 - val_loss: 4.9184 - val_accuracy: 0.2797\n",
            "Epoch 14/30\n",
            "\n",
            "Epoch 00014: val_loss did not improve from 4.91845\n",
            "982/982 - 25s - loss: 3.4094 - accuracy: 0.3201 - val_loss: 5.4775 - val_accuracy: 0.3059\n",
            "Epoch 15/30\n",
            "\n",
            "Epoch 00015: val_loss improved from 4.91845 to 4.43966, saving model to sgdo-10000r-30e-7850t-876v.hdf5\n",
            "982/982 - 25s - loss: 2.8494 - accuracy: 0.3639 - val_loss: 4.4397 - val_accuracy: 0.2945\n",
            "Epoch 16/30\n",
            "\n",
            "Epoch 00016: val_loss did not improve from 4.43966\n",
            "982/982 - 25s - loss: 2.3815 - accuracy: 0.4082 - val_loss: 7.4066 - val_accuracy: 0.2671\n",
            "Epoch 17/30\n",
            "\n",
            "Epoch 00017: val_loss improved from 4.43966 to 3.87789, saving model to sgdo-10000r-30e-7850t-876v.hdf5\n",
            "982/982 - 25s - loss: 2.0058 - accuracy: 0.4464 - val_loss: 3.8779 - val_accuracy: 0.3984\n",
            "Epoch 18/30\n",
            "\n",
            "Epoch 00018: val_loss improved from 3.87789 to 3.67134, saving model to sgdo-10000r-30e-7850t-876v.hdf5\n",
            "982/982 - 25s - loss: 1.6292 - accuracy: 0.5001 - val_loss: 3.6713 - val_accuracy: 0.4281\n",
            "Epoch 19/30\n",
            "\n",
            "Epoch 00019: val_loss improved from 3.67134 to 3.45989, saving model to sgdo-10000r-30e-7850t-876v.hdf5\n",
            "982/982 - 25s - loss: 1.2992 - accuracy: 0.5526 - val_loss: 3.4599 - val_accuracy: 0.4429\n",
            "Epoch 20/30\n",
            "\n",
            "Epoch 00020: val_loss did not improve from 3.45989\n",
            "982/982 - 25s - loss: 1.0443 - accuracy: 0.6074 - val_loss: 4.3883 - val_accuracy: 0.4041\n",
            "Epoch 21/30\n",
            "\n",
            "Epoch 00021: val_loss did not improve from 3.45989\n",
            "982/982 - 24s - loss: 0.8321 - accuracy: 0.6611 - val_loss: 3.6848 - val_accuracy: 0.4760\n",
            "Epoch 22/30\n",
            "\n",
            "Epoch 00022: val_loss did not improve from 3.45989\n",
            "982/982 - 25s - loss: 0.7280 - accuracy: 0.6955 - val_loss: 3.8646 - val_accuracy: 0.4486\n",
            "Epoch 23/30\n",
            "\n",
            "Epoch 00023: val_loss did not improve from 3.45989\n",
            "982/982 - 24s - loss: 0.5815 - accuracy: 0.7348 - val_loss: 3.8411 - val_accuracy: 0.4795\n",
            "Epoch 24/30\n",
            "\n",
            "Epoch 00024: val_loss did not improve from 3.45989\n",
            "982/982 - 25s - loss: 0.4965 - accuracy: 0.7748 - val_loss: 3.6167 - val_accuracy: 0.4989\n",
            "Epoch 25/30\n",
            "\n",
            "Epoch 00025: val_loss improved from 3.45989 to 3.45170, saving model to sgdo-10000r-30e-7850t-876v.hdf5\n",
            "982/982 - 25s - loss: 0.3746 - accuracy: 0.8172 - val_loss: 3.4517 - val_accuracy: 0.5377\n",
            "Epoch 26/30\n",
            "\n",
            "Epoch 00026: val_loss did not improve from 3.45170\n",
            "982/982 - 25s - loss: 0.3134 - accuracy: 0.8488 - val_loss: 3.6710 - val_accuracy: 0.5411\n",
            "Epoch 27/30\n",
            "\n",
            "Epoch 00027: val_loss did not improve from 3.45170\n",
            "982/982 - 25s - loss: 0.2361 - accuracy: 0.8887 - val_loss: 3.5937 - val_accuracy: 0.5388\n",
            "Epoch 28/30\n",
            "\n",
            "Epoch 00028: val_loss did not improve from 3.45170\n",
            "982/982 - 25s - loss: 0.1976 - accuracy: 0.9108 - val_loss: 3.5571 - val_accuracy: 0.5457\n",
            "Epoch 29/30\n",
            "\n",
            "Epoch 00029: val_loss did not improve from 3.45170\n",
            "982/982 - 25s - loss: 0.1585 - accuracy: 0.9276 - val_loss: 3.5594 - val_accuracy: 0.5502\n",
            "Epoch 30/30\n",
            "\n",
            "Epoch 00030: val_loss did not improve from 3.45170\n",
            "982/982 - 25s - loss: 0.1142 - accuracy: 0.9516 - val_loss: 3.5247 - val_accuracy: 0.5605\n"
          ],
          "name": "stdout"
        }
      ]
    },
    {
      "cell_type": "code",
      "metadata": {
        "id": "ZdTLJjErmdxM"
      },
      "source": [
        "act_model.load_weights('/content/drive/My Drive/sgdo-10000r-5e-7850t-876v.hdf5')\n",
        " \n",
        "# predict outputs on validation images\n",
        "#prediction = act_model.predict(valid_images[:10])\n",
        " \n",
        "# use CTC decoder\n",
        "#out = K.get_value(K.ctc_decode(prediction, input_length=np.ones(prediction.shape[0])*prediction.shape[1],\n",
        "                     #    greedy=True)[0][0])\n",
        " \n",
        "# see the results\n",
        "##i = 0\n",
        "#for x in out:\n",
        "#    print(\"original_text =  \", valid_original_text[i])\n",
        "#    print(\"predicted text = \", end = '')\n",
        "#    for p in x:  \n",
        "#        if int(p) != -1:\n",
        "#            print(char_list[int(p)], end = '')       \n",
        "#    print('\\n')\n",
        "#    i+=1"
      ],
      "execution_count": null,
      "outputs": []
    },
    {
      "cell_type": "code",
      "metadata": {
        "id": "5Wm5uko_-DcF"
      },
      "source": [
        "img = cv2.imread('/content/drive/My Drive/to predict words/4-4.png', cv2.COLOR_BGR2GRAY)\n",
        "\n",
        "\n",
        "\n",
        "# increase contrast\n",
        "pxmin = np.min(img)\n",
        "pxmax = np.max(img)\n",
        "imgContrast = (img - pxmin) / (pxmax - pxmin) * 255\n",
        "\n",
        "# increase line width\n",
        "kernel = np.ones((3, 3), np.uint8)\n",
        "imgMorph = cv2.erode(imgContrast, kernel, iterations = 1)\n"
      ],
      "execution_count": null,
      "outputs": []
    },
    {
      "cell_type": "code",
      "metadata": {
        "id": "lZXgnQjoGga9",
        "outputId": "724c52bb-cbc8-4ff4-b695-fb23f9d994a4",
        "colab": {
          "base_uri": "https://localhost:8080/",
          "height": 289
        }
      },
      "source": [
        "plt.imshow(imgMorph)\n",
        "p=process_image(imgMorph)\n",
        "p=p.reshape((1,32,128,1))\n",
        "prediction = act_model.predict(p)\n",
        "out = K.get_value(K.ctc_decode(prediction, input_length=np.ones(prediction.shape[0])*prediction.shape[1],\n",
        "                         greedy=True)[0][0])\n",
        "for x in out:\n",
        "   # print(\"original_text =  \", valid_original_text[i])\n",
        "    print(\"predicted text = \", end = '')\n",
        "    for p in x:  \n",
        "        if int(p) != -1:\n",
        "            print(char_list[int(p)], end = '')       \n",
        "    print('\\n')\n",
        "   "
      ],
      "execution_count": null,
      "outputs": [
        {
          "output_type": "stream",
          "text": [
            "predicted text = for\n",
            "\n"
          ],
          "name": "stdout"
        },
        {
          "output_type": "display_data",
          "data": {
            "image/png": "[encoded data removed]",
            "text/plain": [
              "<Figure size 432x288 with 1 Axes>"
            ]
          },
          "metadata": {
            "tags": [],
            "needs_background": "light"
          }
        }
      ]
    }
  ]
}